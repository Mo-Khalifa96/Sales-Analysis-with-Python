{
 "cells": [
  {
   "cell_type": "markdown",
   "id": "c16c0063",
   "metadata": {},
   "source": [
    "## Sales Analysis\n",
    "<br>\n",
    "\n",
    "#### **This project utilizes the powers of Python to perform different data analysis tasks, in this case, sales analysis. It covers a wide variety of data analysis methods for inspecting, filtering and analyzing data, encompassing the core aspects of data analysis, from simple data filtering techniques to data visualization.**\n",
    "\n",
    "<br>\n",
    "\n",
    "**The data being analyzed here are taken from Kaggle.com, a popular website for finding and publishing datasets. You can easily access it by clicking [here](https://www.kaggle.com/datasets/knightbearr/sales-product-data). The dataset consists of real-world sales data representing a one-year worth of product sales of an electronics store, broken down and organized into 12 csv files, each file representing the sales record of a particular month.**\n",
    "<br>\n",
    "<br>\n",
    "\n",
    "**The dataset is comprised of hundreds of thousands of electronics store purchases broken down by product type, prices, order date, purchase address, etc., corresponding to the following coloumns:** <br> \n",
    "<br>\n",
    "\n",
    "| **Column**             | **Description**                                                |\n",
    "| :----------------------| :--------------------------------------------------------------|\n",
    "| **Order ID**           | Unique IDs that are used to track orders.                      |\n",
    "| **Product**            | Names of the products.                                         |\n",
    "| **Quantity Ordered**   | Total quantity ordered of a particular item.                   |\n",
    "| **Price Each**         | Prices of the products ordered.                                |\n",
    "| **Order Date**         | Dates and time at which a customer made an order.              |\n",
    "| **Purchase Address**   | Addresses the orders were delivered to.                        |\n",
    "\n",
    "<br>\n",
    "\n",
    "**The aim of this project is to demonstrate the data analysis skills I've learned thus far and to apply them to real-world scenarios. As such, this project asks and answers real-world questions about real-world sales data. For instance, \"What was the best month for sales?\", or, \"Which time of the day should we display advertisements to maximize the likelihood of customers' purchasing products?\"**\n",
    "\n",
    "\n",
    "<br>\n",
    "<br>\n",
    "\n"
   ]
  },
  {
   "cell_type": "code",
   "execution_count": null,
   "id": "e1782709",
   "metadata": {},
   "outputs": [],
   "source": [
    "#If you're using the executable notebook version, please run this cell first \n",
    "#to install the necessary Python libraries for the task \n",
    "!pip install pandas \n",
    "!pip install numpy \n",
    "!pip install matplotlib\n",
    "!pip install pathlib\n"
   ]
  },
  {
   "cell_type": "code",
   "execution_count": 2,
   "id": "581732f9",
   "metadata": {},
   "outputs": [],
   "source": [
    "#Importing the Python libraries to be used \n",
    "import pandas as pd \n",
    "import pathlib \n",
    "import numpy as np \n",
    "import matplotlib as mpl\n",
    "import matplotlib.pyplot as plt\n",
    "\n",
    "import warnings\n",
    "warnings.simplefilter(\"ignore\")\n"
   ]
  },
  {
   "cell_type": "markdown",
   "id": "e145a0bb",
   "metadata": {},
   "source": [
    "### Part One: Reading and Inspecting Files\n"
   ]
  },
  {
   "cell_type": "markdown",
   "id": "4b8e4e0d",
   "metadata": {},
   "source": [
    "**1. Loading, reading, and joining files**"
   ]
  },
  {
   "cell_type": "code",
   "execution_count": 3,
   "id": "e1da10ac",
   "metadata": {
    "scrolled": true
   },
   "outputs": [],
   "source": [
    "#specifying the path for all the csv files in the folder and loading each file \n",
    "files = pathlib.Path().rglob('*.csv')\n",
    "\n",
    "#joining all the 12 files into one dataframe (to represent the annual sales)\n",
    "df_all_months = pd.concat([pd.read_csv(file) for file in files])\n"
   ]
  },
  {
   "cell_type": "markdown",
   "id": "b0dc213d",
   "metadata": {},
   "source": [
    "  "
   ]
  },
  {
   "cell_type": "markdown",
   "id": "5cdbaf52",
   "metadata": {},
   "source": [
    "**2. Inspecting the Dataframe**"
   ]
  },
  {
   "cell_type": "code",
   "execution_count": 4,
   "id": "238701af",
   "metadata": {},
   "outputs": [
    {
     "name": "stdout",
     "output_type": "stream",
     "text": [
      "Number of coloumns: 6\n",
      "Number of rows: 186850\n"
     ]
    }
   ],
   "source": [
    "#Inspecting the shape (rows x coloumns) of the dataframe \n",
    "shape = df_all_months.shape\n",
    "print('Number of coloumns:', shape[1])\n",
    "print('Number of rows:', shape[0])\n"
   ]
  },
  {
   "cell_type": "markdown",
   "id": "c5a5decf",
   "metadata": {},
   "source": [
    " "
   ]
  },
  {
   "cell_type": "code",
   "execution_count": 5,
   "id": "721ae15e",
   "metadata": {},
   "outputs": [
    {
     "name": "stdout",
     "output_type": "stream",
     "text": [
      "Coloumn headers in the dataset:\n",
      "Order ID\n",
      "Product\n",
      "Quantity Ordered\n",
      "Price Each\n",
      "Order Date\n",
      "Purchase Address\n"
     ]
    }
   ],
   "source": [
    "#Inspecting the coloumn headers of the dataframe\n",
    "print('Coloumn headers in the dataset:')\n",
    "for column in list(df_all_months.columns):\n",
    "    print(column)\n"
   ]
  },
  {
   "cell_type": "markdown",
   "id": "b559c56d",
   "metadata": {},
   "source": [
    " "
   ]
  },
  {
   "cell_type": "code",
   "execution_count": 6,
   "id": "2df5f222",
   "metadata": {},
   "outputs": [
    {
     "name": "stdout",
     "output_type": "stream",
     "text": [
      "The first 10 entries in the dataset:\n"
     ]
    },
    {
     "data": {
      "text/html": [
       "<div>\n",
       "<style scoped>\n",
       "    .dataframe tbody tr th:only-of-type {\n",
       "        vertical-align: middle;\n",
       "    }\n",
       "\n",
       "    .dataframe tbody tr th {\n",
       "        vertical-align: top;\n",
       "    }\n",
       "\n",
       "    .dataframe thead th {\n",
       "        text-align: right;\n",
       "    }\n",
       "</style>\n",
       "<table border=\"1\" class=\"dataframe\">\n",
       "  <thead>\n",
       "    <tr style=\"text-align: right;\">\n",
       "      <th></th>\n",
       "      <th>Order ID</th>\n",
       "      <th>Product</th>\n",
       "      <th>Quantity Ordered</th>\n",
       "      <th>Price Each</th>\n",
       "      <th>Order Date</th>\n",
       "      <th>Purchase Address</th>\n",
       "    </tr>\n",
       "  </thead>\n",
       "  <tbody>\n",
       "    <tr>\n",
       "      <th>0</th>\n",
       "      <td>176558</td>\n",
       "      <td>USB-C Charging Cable</td>\n",
       "      <td>2</td>\n",
       "      <td>11.95</td>\n",
       "      <td>04/19/19 08:46</td>\n",
       "      <td>917 1st St, Dallas, TX 75001</td>\n",
       "    </tr>\n",
       "    <tr>\n",
       "      <th>1</th>\n",
       "      <td>NaN</td>\n",
       "      <td>NaN</td>\n",
       "      <td>NaN</td>\n",
       "      <td>NaN</td>\n",
       "      <td>NaN</td>\n",
       "      <td>NaN</td>\n",
       "    </tr>\n",
       "    <tr>\n",
       "      <th>2</th>\n",
       "      <td>176559</td>\n",
       "      <td>Bose SoundSport Headphones</td>\n",
       "      <td>1</td>\n",
       "      <td>99.99</td>\n",
       "      <td>04/07/19 22:30</td>\n",
       "      <td>682 Chestnut St, Boston, MA 02215</td>\n",
       "    </tr>\n",
       "    <tr>\n",
       "      <th>3</th>\n",
       "      <td>176560</td>\n",
       "      <td>Google Phone</td>\n",
       "      <td>1</td>\n",
       "      <td>600</td>\n",
       "      <td>04/12/19 14:38</td>\n",
       "      <td>669 Spruce St, Los Angeles, CA 90001</td>\n",
       "    </tr>\n",
       "    <tr>\n",
       "      <th>4</th>\n",
       "      <td>176560</td>\n",
       "      <td>Wired Headphones</td>\n",
       "      <td>1</td>\n",
       "      <td>11.99</td>\n",
       "      <td>04/12/19 14:38</td>\n",
       "      <td>669 Spruce St, Los Angeles, CA 90001</td>\n",
       "    </tr>\n",
       "    <tr>\n",
       "      <th>5</th>\n",
       "      <td>176561</td>\n",
       "      <td>Wired Headphones</td>\n",
       "      <td>1</td>\n",
       "      <td>11.99</td>\n",
       "      <td>04/30/19 09:27</td>\n",
       "      <td>333 8th St, Los Angeles, CA 90001</td>\n",
       "    </tr>\n",
       "    <tr>\n",
       "      <th>6</th>\n",
       "      <td>176562</td>\n",
       "      <td>USB-C Charging Cable</td>\n",
       "      <td>1</td>\n",
       "      <td>11.95</td>\n",
       "      <td>04/29/19 13:03</td>\n",
       "      <td>381 Wilson St, San Francisco, CA 94016</td>\n",
       "    </tr>\n",
       "    <tr>\n",
       "      <th>7</th>\n",
       "      <td>176563</td>\n",
       "      <td>Bose SoundSport Headphones</td>\n",
       "      <td>1</td>\n",
       "      <td>99.99</td>\n",
       "      <td>04/02/19 07:46</td>\n",
       "      <td>668 Center St, Seattle, WA 98101</td>\n",
       "    </tr>\n",
       "    <tr>\n",
       "      <th>8</th>\n",
       "      <td>176564</td>\n",
       "      <td>USB-C Charging Cable</td>\n",
       "      <td>1</td>\n",
       "      <td>11.95</td>\n",
       "      <td>04/12/19 10:58</td>\n",
       "      <td>790 Ridge St, Atlanta, GA 30301</td>\n",
       "    </tr>\n",
       "    <tr>\n",
       "      <th>9</th>\n",
       "      <td>176565</td>\n",
       "      <td>Macbook Pro Laptop</td>\n",
       "      <td>1</td>\n",
       "      <td>1700</td>\n",
       "      <td>04/24/19 10:38</td>\n",
       "      <td>915 Willow St, San Francisco, CA 94016</td>\n",
       "    </tr>\n",
       "  </tbody>\n",
       "</table>\n",
       "</div>"
      ],
      "text/plain": [
       "  Order ID                     Product Quantity Ordered Price Each  \\\n",
       "0   176558        USB-C Charging Cable                2      11.95   \n",
       "1      NaN                         NaN              NaN        NaN   \n",
       "2   176559  Bose SoundSport Headphones                1      99.99   \n",
       "3   176560                Google Phone                1        600   \n",
       "4   176560            Wired Headphones                1      11.99   \n",
       "5   176561            Wired Headphones                1      11.99   \n",
       "6   176562        USB-C Charging Cable                1      11.95   \n",
       "7   176563  Bose SoundSport Headphones                1      99.99   \n",
       "8   176564        USB-C Charging Cable                1      11.95   \n",
       "9   176565          Macbook Pro Laptop                1       1700   \n",
       "\n",
       "       Order Date                        Purchase Address  \n",
       "0  04/19/19 08:46            917 1st St, Dallas, TX 75001  \n",
       "1             NaN                                     NaN  \n",
       "2  04/07/19 22:30       682 Chestnut St, Boston, MA 02215  \n",
       "3  04/12/19 14:38    669 Spruce St, Los Angeles, CA 90001  \n",
       "4  04/12/19 14:38    669 Spruce St, Los Angeles, CA 90001  \n",
       "5  04/30/19 09:27       333 8th St, Los Angeles, CA 90001  \n",
       "6  04/29/19 13:03  381 Wilson St, San Francisco, CA 94016  \n",
       "7  04/02/19 07:46        668 Center St, Seattle, WA 98101  \n",
       "8  04/12/19 10:58         790 Ridge St, Atlanta, GA 30301  \n",
       "9  04/24/19 10:38  915 Willow St, San Francisco, CA 94016  "
      ]
     },
     "execution_count": 6,
     "metadata": {},
     "output_type": "execute_result"
    }
   ],
   "source": [
    "#Displaying the first 10 entries in the dataframe\n",
    "print('The first 10 entries in the dataset:')\n",
    "df_all_months.head(10)\n"
   ]
  },
  {
   "cell_type": "markdown",
   "id": "e1b8ca6d",
   "metadata": {},
   "source": [
    " "
   ]
  },
  {
   "cell_type": "markdown",
   "id": "ef539f35",
   "metadata": {},
   "source": [
    "**3. Writing a New Excel File**"
   ]
  },
  {
   "cell_type": "code",
   "execution_count": 7,
   "id": "13454b60",
   "metadata": {},
   "outputs": [],
   "source": [
    "#creating and storing all sales data from all months into a new Excel file, 'All Sales.xlsx'\n",
    "df_all_months.to_excel('All Sales.xlsx',            #specifying the file name\n",
    "                      sheet_name='Sales 2019',      #specifying the sheet name\n",
    "                      index=False)                  #removing unnecessary index coloumn\n"
   ]
  },
  {
   "cell_type": "code",
   "execution_count": 8,
   "id": "766b2eec",
   "metadata": {},
   "outputs": [
    {
     "name": "stdout",
     "output_type": "stream",
     "text": [
      "First 5 entries in 'All Sales.xlsx' file:\n"
     ]
    },
    {
     "data": {
      "text/html": [
       "<div>\n",
       "<style scoped>\n",
       "    .dataframe tbody tr th:only-of-type {\n",
       "        vertical-align: middle;\n",
       "    }\n",
       "\n",
       "    .dataframe tbody tr th {\n",
       "        vertical-align: top;\n",
       "    }\n",
       "\n",
       "    .dataframe thead th {\n",
       "        text-align: right;\n",
       "    }\n",
       "</style>\n",
       "<table border=\"1\" class=\"dataframe\">\n",
       "  <thead>\n",
       "    <tr style=\"text-align: right;\">\n",
       "      <th></th>\n",
       "      <th>Order ID</th>\n",
       "      <th>Product</th>\n",
       "      <th>Quantity Ordered</th>\n",
       "      <th>Price Each</th>\n",
       "      <th>Order Date</th>\n",
       "      <th>Purchase Address</th>\n",
       "    </tr>\n",
       "  </thead>\n",
       "  <tbody>\n",
       "    <tr>\n",
       "      <th>0</th>\n",
       "      <td>176558</td>\n",
       "      <td>USB-C Charging Cable</td>\n",
       "      <td>2</td>\n",
       "      <td>11.95</td>\n",
       "      <td>04/19/19 08:46</td>\n",
       "      <td>917 1st St, Dallas, TX 75001</td>\n",
       "    </tr>\n",
       "    <tr>\n",
       "      <th>1</th>\n",
       "      <td>NaN</td>\n",
       "      <td>NaN</td>\n",
       "      <td>NaN</td>\n",
       "      <td>NaN</td>\n",
       "      <td>NaN</td>\n",
       "      <td>NaN</td>\n",
       "    </tr>\n",
       "    <tr>\n",
       "      <th>2</th>\n",
       "      <td>176559</td>\n",
       "      <td>Bose SoundSport Headphones</td>\n",
       "      <td>1</td>\n",
       "      <td>99.99</td>\n",
       "      <td>04/07/19 22:30</td>\n",
       "      <td>682 Chestnut St, Boston, MA 02215</td>\n",
       "    </tr>\n",
       "    <tr>\n",
       "      <th>3</th>\n",
       "      <td>176560</td>\n",
       "      <td>Google Phone</td>\n",
       "      <td>1</td>\n",
       "      <td>600</td>\n",
       "      <td>04/12/19 14:38</td>\n",
       "      <td>669 Spruce St, Los Angeles, CA 90001</td>\n",
       "    </tr>\n",
       "    <tr>\n",
       "      <th>4</th>\n",
       "      <td>176560</td>\n",
       "      <td>Wired Headphones</td>\n",
       "      <td>1</td>\n",
       "      <td>11.99</td>\n",
       "      <td>04/12/19 14:38</td>\n",
       "      <td>669 Spruce St, Los Angeles, CA 90001</td>\n",
       "    </tr>\n",
       "  </tbody>\n",
       "</table>\n",
       "</div>"
      ],
      "text/plain": [
       "  Order ID                     Product Quantity Ordered Price Each  \\\n",
       "0   176558        USB-C Charging Cable                2      11.95   \n",
       "1      NaN                         NaN              NaN        NaN   \n",
       "2   176559  Bose SoundSport Headphones                1      99.99   \n",
       "3   176560                Google Phone                1        600   \n",
       "4   176560            Wired Headphones                1      11.99   \n",
       "\n",
       "       Order Date                      Purchase Address  \n",
       "0  04/19/19 08:46          917 1st St, Dallas, TX 75001  \n",
       "1             NaN                                   NaN  \n",
       "2  04/07/19 22:30     682 Chestnut St, Boston, MA 02215  \n",
       "3  04/12/19 14:38  669 Spruce St, Los Angeles, CA 90001  \n",
       "4  04/12/19 14:38  669 Spruce St, Los Angeles, CA 90001  "
      ]
     },
     "execution_count": 8,
     "metadata": {},
     "output_type": "execute_result"
    }
   ],
   "source": [
    "#Loading and previewing data from the new file\n",
    "#creating a new dataframe, 'df', with the accumulated data in the file 'All Sales.xlsx'\n",
    "df = pd.read_excel('All Sales.xlsx')\n",
    "\n",
    "#to preview the first 5 entries of the new dataframe \n",
    "print('First 5 entries in \\'All Sales.xlsx\\' file:')\n",
    "df.head()\n"
   ]
  },
  {
   "cell_type": "markdown",
   "id": "5be04db4",
   "metadata": {},
   "source": [
    " "
   ]
  },
  {
   "cell_type": "markdown",
   "id": "99749d2b",
   "metadata": {},
   "source": [
    "### Part Two: Updating and Cleaning the Data\n",
    "\n",
    "<br> \n",
    "\n",
    "Some of the data contain missing entries, inappropriate values (such as repeating coloumn headers), or NaN (Not a Number) values. Further, some of the data types don't match their values given that the data were converted from csv file format to Excel file format. It's time to take care of these faulty entries and clean up the dataframe before moving forwards such that our analysis can proceed appripriately. \n",
    "<br>\n",
    "<br>"
   ]
  },
  {
   "cell_type": "markdown",
   "id": "351eb0df",
   "metadata": {},
   "source": [
    "**1. Removing NaN Entries**"
   ]
  },
  {
   "cell_type": "code",
   "execution_count": 9,
   "id": "4132480e",
   "metadata": {},
   "outputs": [
    {
     "name": "stdout",
     "output_type": "stream",
     "text": [
      "Number of entries before cleaning up: 186850\n",
      "Number of entries after cleaning up: 186305\n"
     ]
    }
   ],
   "source": [
    "#checking the number of entries before cleaning up \n",
    "print('Number of entries before cleaning up:', len(df))\n",
    "\n",
    "#dropping NaN entries \n",
    "df.dropna(how='all', inplace=True)\n",
    "\n",
    "#checking the number of entries after cleaning up \n",
    "print('Number of entries after cleaning up:', len(df))\n"
   ]
  },
  {
   "cell_type": "markdown",
   "id": "90280c26",
   "metadata": {},
   "source": [
    " "
   ]
  },
  {
   "cell_type": "markdown",
   "id": "8a880626",
   "metadata": {},
   "source": [
    "**2. Converting Data to Appropriate Data Types**\n",
    "<br>\n",
    "Given that we switched from csv file format to Excel format, we need to make sure that all the numerical data in the file are indeed of the numeric type <br> (rather than being considered as text data).\n",
    "<br>"
   ]
  },
  {
   "cell_type": "code",
   "execution_count": 10,
   "id": "a24b270e",
   "metadata": {},
   "outputs": [
    {
     "name": "stdout",
     "output_type": "stream",
     "text": [
      "Data type of coloumns before converting:\n",
      "Order ID            object\n",
      "Quantity Ordered    object\n",
      "Price Each          object\n",
      "dtype: object\n",
      "\n",
      "Data type of coloumns after converting:\n",
      "Order ID              int32\n",
      "Quantity Ordered      int32\n",
      "Price Each          float32\n",
      "dtype: object\n"
     ]
    }
   ],
   "source": [
    "#checking the data types of the coloumns with numeric values before converting\n",
    "print('Data type of coloumns before converting:')\n",
    "print(df[['Order ID', 'Quantity Ordered', 'Price Each']].dtypes) \n",
    "print('')\n",
    "\n",
    "\n",
    "#converting the data in the 3 coloumns: 'Order ID', 'Quantity Ordered', & 'Price Each' to numeric-type data \n",
    "cols = ['Order ID', 'Quantity Ordered', 'Price Each']          #the coloumns to convert \n",
    "\n",
    "df[cols] = df[cols].apply(pd.to_numeric, \n",
    "                        errors='coerce')        #inappropriate values (including repeating headers) that can't be converted to numerical will be converted to NaN instead\n",
    "\n",
    "\n",
    "#to remove the new NaN values \n",
    "df.dropna(how='any', inplace=True)       \n",
    "\n",
    "\n",
    "#specifying the numeric type (integer, float, etc.) of numeric data\n",
    "df[cols] = df[cols].astype({'Order ID': 'int32', 'Quantity Ordered': 'int32', 'Price Each': 'float32'})\n",
    "\n",
    "\n",
    "#checking the data types of the coloumns after converting\n",
    "print('Data type of coloumns after converting:')\n",
    "print(df[cols].dtypes)\n"
   ]
  },
  {
   "cell_type": "markdown",
   "id": "100e1cbe",
   "metadata": {},
   "source": [
    " "
   ]
  },
  {
   "cell_type": "markdown",
   "id": "a32cbcf7",
   "metadata": {},
   "source": [
    "**2.2. Coverting the Datetime Entries to Datetime-type Data**"
   ]
  },
  {
   "cell_type": "code",
   "execution_count": 11,
   "id": "44a35754",
   "metadata": {},
   "outputs": [
    {
     "name": "stdout",
     "output_type": "stream",
     "text": [
      "Order dates after converting:\n"
     ]
    },
    {
     "data": {
      "text/plain": [
       "0    19/04/19 08:46\n",
       "2    07/04/19 22:30\n",
       "3    12/04/19 14:38\n",
       "4    12/04/19 14:38\n",
       "5    30/04/19 09:27\n",
       "Name: Order Date, dtype: object"
      ]
     },
     "execution_count": 11,
     "metadata": {},
     "output_type": "execute_result"
    }
   ],
   "source": [
    "#converting the data in the 'Order Date' coloumn to datetime-type data \n",
    "df['Order Date'] = pd.to_datetime(df['Order Date'], \n",
    "            format='%m/%d/%y %H:%M', errors='coerce').dt.strftime('%d/%m/%y %H:%M')       #to change the format of the datetime (to day/month/year)\n",
    "\n",
    "\n",
    "#previewing the first entries off the 'Order Date' coloumn\n",
    "print('Order dates after converting:')\n",
    "df['Order Date'].head()\n",
    "      "
   ]
  },
  {
   "cell_type": "markdown",
   "id": "1c63f969",
   "metadata": {},
   "source": [
    " "
   ]
  },
  {
   "cell_type": "markdown",
   "id": "0d29d691",
   "metadata": {},
   "source": [
    "**3. Updating the Excel File**"
   ]
  },
  {
   "cell_type": "code",
   "execution_count": 12,
   "id": "f5464f71",
   "metadata": {},
   "outputs": [],
   "source": [
    "#overwriting the Excel file, 'All Sales.xlsx', with the updated/cleaned up dataframe \n",
    "df.to_excel('All Sales.xlsx', sheet_name='Sales 2019', index=False)\n"
   ]
  },
  {
   "cell_type": "code",
   "execution_count": 13,
   "id": "77d6c15d",
   "metadata": {},
   "outputs": [],
   "source": [
    "#now we can load and use a clean dataframe \n",
    "df = pd.read_excel('All Sales.xlsx')\n"
   ]
  },
  {
   "cell_type": "markdown",
   "id": "57833354",
   "metadata": {},
   "source": [
    " "
   ]
  },
  {
   "cell_type": "markdown",
   "id": "99473080",
   "metadata": {},
   "source": [
    "### Part Three: Exploring the Data \n",
    "<br>\n",
    "This part will consist of different real-world business questions and ways to answer these questions using Python's data analysis libraries and tools.\n",
    "<br>\n",
    "<br>"
   ]
  },
  {
   "cell_type": "markdown",
   "id": "c54d65a3",
   "metadata": {},
   "source": [
    "**Question 1: What was the best month for sales? How much was earned that month?**\n",
    "<br>\n",
    "\n",
    "To answer this question, first, we need to extract only the months from the 'Order Date' coloumn and store each separately in a new coloumn, 'Months'. Second, we need to get the total sales amounts per order by multiplying the quantity ordered with the price of each individual product, and creating and storing the results in a 'Sales' coloumn. Finally, I will group the data by month, calculate the total sum of sales per month, and, lastly, visualize the data to get a better view of how sales changed from one month to the next.\n",
    "\n",
    "<br>"
   ]
  },
  {
   "cell_type": "code",
   "execution_count": 14,
   "id": "f4356c83",
   "metadata": {},
   "outputs": [
    {
     "data": {
      "text/html": [
       "<div>\n",
       "<style scoped>\n",
       "    .dataframe tbody tr th:only-of-type {\n",
       "        vertical-align: middle;\n",
       "    }\n",
       "\n",
       "    .dataframe tbody tr th {\n",
       "        vertical-align: top;\n",
       "    }\n",
       "\n",
       "    .dataframe thead th {\n",
       "        text-align: right;\n",
       "    }\n",
       "</style>\n",
       "<table border=\"1\" class=\"dataframe\">\n",
       "  <thead>\n",
       "    <tr style=\"text-align: right;\">\n",
       "      <th></th>\n",
       "      <th>Order ID</th>\n",
       "      <th>Product</th>\n",
       "      <th>Quantity Ordered</th>\n",
       "      <th>Price Each</th>\n",
       "      <th>Sales</th>\n",
       "      <th>Order Date</th>\n",
       "      <th>Months</th>\n",
       "      <th>Purchase Address</th>\n",
       "    </tr>\n",
       "  </thead>\n",
       "  <tbody>\n",
       "    <tr>\n",
       "      <th>0</th>\n",
       "      <td>176558</td>\n",
       "      <td>USB-C Charging Cable</td>\n",
       "      <td>2</td>\n",
       "      <td>11.950000</td>\n",
       "      <td>23.900000</td>\n",
       "      <td>19/04/19 08:46</td>\n",
       "      <td>Apr</td>\n",
       "      <td>917 1st St, Dallas, TX 75001</td>\n",
       "    </tr>\n",
       "    <tr>\n",
       "      <th>1</th>\n",
       "      <td>176559</td>\n",
       "      <td>Bose SoundSport Headphones</td>\n",
       "      <td>1</td>\n",
       "      <td>99.989998</td>\n",
       "      <td>99.989998</td>\n",
       "      <td>07/04/19 22:30</td>\n",
       "      <td>Jul</td>\n",
       "      <td>682 Chestnut St, Boston, MA 02215</td>\n",
       "    </tr>\n",
       "    <tr>\n",
       "      <th>2</th>\n",
       "      <td>176560</td>\n",
       "      <td>Google Phone</td>\n",
       "      <td>1</td>\n",
       "      <td>600.000000</td>\n",
       "      <td>600.000000</td>\n",
       "      <td>12/04/19 14:38</td>\n",
       "      <td>Dec</td>\n",
       "      <td>669 Spruce St, Los Angeles, CA 90001</td>\n",
       "    </tr>\n",
       "    <tr>\n",
       "      <th>3</th>\n",
       "      <td>176560</td>\n",
       "      <td>Wired Headphones</td>\n",
       "      <td>1</td>\n",
       "      <td>11.990000</td>\n",
       "      <td>11.990000</td>\n",
       "      <td>12/04/19 14:38</td>\n",
       "      <td>Dec</td>\n",
       "      <td>669 Spruce St, Los Angeles, CA 90001</td>\n",
       "    </tr>\n",
       "    <tr>\n",
       "      <th>4</th>\n",
       "      <td>176561</td>\n",
       "      <td>Wired Headphones</td>\n",
       "      <td>1</td>\n",
       "      <td>11.990000</td>\n",
       "      <td>11.990000</td>\n",
       "      <td>30/04/19 09:27</td>\n",
       "      <td>Apr</td>\n",
       "      <td>333 8th St, Los Angeles, CA 90001</td>\n",
       "    </tr>\n",
       "  </tbody>\n",
       "</table>\n",
       "</div>"
      ],
      "text/plain": [
       "   Order ID                     Product  Quantity Ordered  Price Each  \\\n",
       "0    176558        USB-C Charging Cable                 2   11.950000   \n",
       "1    176559  Bose SoundSport Headphones                 1   99.989998   \n",
       "2    176560                Google Phone                 1  600.000000   \n",
       "3    176560            Wired Headphones                 1   11.990000   \n",
       "4    176561            Wired Headphones                 1   11.990000   \n",
       "\n",
       "        Sales      Order Date Months                      Purchase Address  \n",
       "0   23.900000  19/04/19 08:46    Apr          917 1st St, Dallas, TX 75001  \n",
       "1   99.989998  07/04/19 22:30    Jul     682 Chestnut St, Boston, MA 02215  \n",
       "2  600.000000  12/04/19 14:38    Dec  669 Spruce St, Los Angeles, CA 90001  \n",
       "3   11.990000  12/04/19 14:38    Dec  669 Spruce St, Los Angeles, CA 90001  \n",
       "4   11.990000  30/04/19 09:27    Apr     333 8th St, Los Angeles, CA 90001  "
      ]
     },
     "execution_count": 14,
     "metadata": {},
     "output_type": "execute_result"
    }
   ],
   "source": [
    "#First, adding a months coloumn\n",
    "Months_col = pd.to_datetime(df['Order Date']).dt.month_name().str[:3]        #creating a months coloumn (by month abbreviations)\n",
    "df.insert(loc=5, column='Months', value=Months_col)              #inserting the months coloumn into the dataframe \n",
    "\n",
    "#Second, adding a sales coloumn \n",
    "Sales_col = df['Quantity Ordered'] * df['Price Each']\n",
    "df.insert(loc=4, column='Sales', value=Sales_col)\n",
    "\n",
    "#previewing the first 5 entries of the dataframe to see if 'Months' and 'Sales' were added\n",
    "df.head()\n"
   ]
  },
  {
   "cell_type": "markdown",
   "id": "a6d0b3ec",
   "metadata": {},
   "source": [
    " "
   ]
  },
  {
   "cell_type": "code",
   "execution_count": 15,
   "id": "6c777e54",
   "metadata": {},
   "outputs": [
    {
     "name": "stdout",
     "output_type": "stream",
     "text": [
      "The following table displays the total sales amount (and quantities ordered) for each month:\n"
     ]
    },
    {
     "data": {
      "text/html": [
       "<div>\n",
       "<style scoped>\n",
       "    .dataframe tbody tr th:only-of-type {\n",
       "        vertical-align: middle;\n",
       "    }\n",
       "\n",
       "    .dataframe tbody tr th {\n",
       "        vertical-align: top;\n",
       "    }\n",
       "\n",
       "    .dataframe thead th {\n",
       "        text-align: right;\n",
       "    }\n",
       "</style>\n",
       "<table border=\"1\" class=\"dataframe\">\n",
       "  <thead>\n",
       "    <tr style=\"text-align: right;\">\n",
       "      <th></th>\n",
       "      <th>Quantity Ordered</th>\n",
       "      <th>Sales</th>\n",
       "    </tr>\n",
       "    <tr>\n",
       "      <th>Months</th>\n",
       "      <th></th>\n",
       "      <th></th>\n",
       "    </tr>\n",
       "  </thead>\n",
       "  <tbody>\n",
       "    <tr>\n",
       "      <th>Jan</th>\n",
       "      <td>13595</td>\n",
       "      <td>$2,286,906.12</td>\n",
       "    </tr>\n",
       "    <tr>\n",
       "      <th>Feb</th>\n",
       "      <td>14729</td>\n",
       "      <td>$2,394,466.92</td>\n",
       "    </tr>\n",
       "    <tr>\n",
       "      <th>Mar</th>\n",
       "      <td>16930</td>\n",
       "      <td>$2,793,085.43</td>\n",
       "    </tr>\n",
       "    <tr>\n",
       "      <th>Apr</th>\n",
       "      <td>19150</td>\n",
       "      <td>$3,229,765.32</td>\n",
       "    </tr>\n",
       "    <tr>\n",
       "      <th>May</th>\n",
       "      <td>18338</td>\n",
       "      <td>$3,033,275.76</td>\n",
       "    </tr>\n",
       "    <tr>\n",
       "      <th>Jun</th>\n",
       "      <td>15911</td>\n",
       "      <td>$2,684,602.51</td>\n",
       "    </tr>\n",
       "    <tr>\n",
       "      <th>Jul</th>\n",
       "      <td>16613</td>\n",
       "      <td>$2,721,872.58</td>\n",
       "    </tr>\n",
       "    <tr>\n",
       "      <th>Aug</th>\n",
       "      <td>15101</td>\n",
       "      <td>$2,447,041.56</td>\n",
       "    </tr>\n",
       "    <tr>\n",
       "      <th>Sep</th>\n",
       "      <td>14709</td>\n",
       "      <td>$2,413,750.81</td>\n",
       "    </tr>\n",
       "    <tr>\n",
       "      <th>Oct</th>\n",
       "      <td>20956</td>\n",
       "      <td>$3,475,536.73</td>\n",
       "    </tr>\n",
       "    <tr>\n",
       "      <th>Nov</th>\n",
       "      <td>18606</td>\n",
       "      <td>$3,086,325.25</td>\n",
       "    </tr>\n",
       "    <tr>\n",
       "      <th>Dec</th>\n",
       "      <td>24441</td>\n",
       "      <td>$3,925,406.82</td>\n",
       "    </tr>\n",
       "  </tbody>\n",
       "</table>\n",
       "</div>"
      ],
      "text/plain": [
       "        Quantity Ordered          Sales\n",
       "Months                                 \n",
       "Jan                13595  $2,286,906.12\n",
       "Feb                14729  $2,394,466.92\n",
       "Mar                16930  $2,793,085.43\n",
       "Apr                19150  $3,229,765.32\n",
       "May                18338  $3,033,275.76\n",
       "Jun                15911  $2,684,602.51\n",
       "Jul                16613  $2,721,872.58\n",
       "Aug                15101  $2,447,041.56\n",
       "Sep                14709  $2,413,750.81\n",
       "Oct                20956  $3,475,536.73\n",
       "Nov                18606  $3,086,325.25\n",
       "Dec                24441  $3,925,406.82"
      ]
     },
     "execution_count": 15,
     "metadata": {},
     "output_type": "execute_result"
    }
   ],
   "source": [
    "#Third, grouping the data by month and calculating the total sales (and quantities) amount for each month\n",
    "sales_per_month = df.groupby(['Months']).sum()[['Quantity Ordered', 'Sales']]\n",
    "\n",
    "#sorting the data in alphabetical order by month name\n",
    "#specifying the sorting order \n",
    "sort_order = ['Jan', 'Feb', 'Mar', 'Apr', 'May', 'Jun', 'Jul', 'Aug', 'Sep', 'Oct', 'Nov', 'Dec']\n",
    "\n",
    "#sorting the data\n",
    "sales_per_month = sales_per_month.reindex(sort_order)\n",
    "\n",
    "#to present the sales in USD and display them in a reader-friendly manner\n",
    "sales_per_month_USD = sales_per_month.copy()\n",
    "sales_per_month_USD['Sales'] = sales_per_month_USD['Sales'].apply(lambda sale: '${:,.2f}'.format(sale))\n",
    "\n",
    "#displaying the results \n",
    "print('The following table displays the total sales amount (and quantities ordered) for each month:')\n",
    "sales_per_month_USD\n"
   ]
  },
  {
   "cell_type": "markdown",
   "id": "eb72a63b",
   "metadata": {},
   "source": [
    " "
   ]
  },
  {
   "cell_type": "code",
   "execution_count": 16,
   "id": "4d04eca9",
   "metadata": {},
   "outputs": [
    {
     "name": "stdout",
     "output_type": "stream",
     "text": [
      "The best month for sales was: December\n"
     ]
    }
   ],
   "source": [
    "#Now we can extract the month with the most sales\n",
    "sales_per_month_sorted = sales_per_month.sort_values(by='Sales', ascending=False)\n",
    "best_month = sales_per_month_sorted.index[0]\n",
    "\n",
    "#getting month full name \n",
    "best_month = pd.to_datetime(best_month, format='%b').month_name()\n",
    "\n",
    "#reporting the best month for sales \n",
    "print('The best month for sales was:', best_month)\n"
   ]
  },
  {
   "cell_type": "markdown",
   "id": "f7cb81c8",
   "metadata": {},
   "source": [
    " "
   ]
  },
  {
   "cell_type": "code",
   "execution_count": 17,
   "id": "d65f6e7f",
   "metadata": {},
   "outputs": [
    {
     "name": "stdout",
     "output_type": "stream",
     "text": [
      "The total sales amount earned that month was: $3,925,406.82\n"
     ]
    }
   ],
   "source": [
    "#How much was earned that month?\n",
    "maxsale = sales_per_month_sorted['Sales'].iloc[0]\n",
    "print('The total sales amount earned that month was: ${:,.2f}'.format(maxsale))\n"
   ]
  },
  {
   "cell_type": "markdown",
   "id": "22482774",
   "metadata": {},
   "source": [
    " "
   ]
  },
  {
   "cell_type": "code",
   "execution_count": 18,
   "id": "7da359b8",
   "metadata": {},
   "outputs": [
    {
     "data": {
      "image/png": "[encoded data removed]",
      "text/plain": [
       "<Figure size 1200x700 with 1 Axes>"
      ]
     },
     "metadata": {},
     "output_type": "display_data"
    }
   ],
   "source": [
    "#Finally, we can also visualize the amount of sales per month using a bar chart\n",
    "months = sales_per_month.index.values \n",
    "sales = sales_per_month['Sales']\n",
    "\n",
    "#specifying the figure size \n",
    "plt.figure(figsize=(12,7))        # (width x height)\n",
    "\n",
    "#plotting a bar chart\n",
    "plt.bar(months, sales,\n",
    "        color='#407bbf',          \n",
    "        linewidth=1,\n",
    "        edgecolor='k')\n",
    "\n",
    "#adding a title \n",
    "plt.title('Sales Amount Per Month', fontsize=15)\n",
    "\n",
    "#adding labels to the axes \n",
    "plt.xlabel('Month', fontsize=13)\n",
    "plt.ylabel('Sales Amount in USD ($)', fontsize=13)\n",
    "\n",
    "#adjusting the y-axis to display the sales amounts accurately \n",
    "plt.gcf().axes[0].yaxis.get_major_formatter().set_scientific(False)\n",
    "plt.gcf().axes[0].yaxis.set_major_formatter(mpl.ticker.StrMethodFormatter('${x:,.0f}'))\n",
    "\n",
    "#displaying the bar chart \n",
    "plt.tight_layout()\n",
    "plt.show()\n"
   ]
  },
  {
   "cell_type": "markdown",
   "id": "e07857b8",
   "metadata": {},
   "source": [
    " "
   ]
  },
  {
   "cell_type": "markdown",
   "id": "3338febb",
   "metadata": {},
   "source": [
    "**Question 2: Which city sold the most products?**\n",
    "<br>\n",
    "\n",
    "To compare cities, first we'll have to extract the city corresponding to each order from the 'Purchase Address' coloumn and store them in a <br> separate coloumn 'City'. Thereafter we can group the data by city and calculate the total sum of sales for each city separately.\n",
    "<br>\n",
    "<br>"
   ]
  },
  {
   "cell_type": "code",
   "execution_count": 19,
   "id": "b72ff04d",
   "metadata": {},
   "outputs": [
    {
     "name": "stdout",
     "output_type": "stream",
     "text": [
      "The following table displays the total sales amount for each city:\n"
     ]
    },
    {
     "data": {
      "text/html": [
       "<div>\n",
       "<style scoped>\n",
       "    .dataframe tbody tr th:only-of-type {\n",
       "        vertical-align: middle;\n",
       "    }\n",
       "\n",
       "    .dataframe tbody tr th {\n",
       "        vertical-align: top;\n",
       "    }\n",
       "\n",
       "    .dataframe thead th {\n",
       "        text-align: right;\n",
       "    }\n",
       "</style>\n",
       "<table border=\"1\" class=\"dataframe\">\n",
       "  <thead>\n",
       "    <tr style=\"text-align: right;\">\n",
       "      <th></th>\n",
       "      <th>Total Sales Amount</th>\n",
       "    </tr>\n",
       "    <tr>\n",
       "      <th>City</th>\n",
       "      <th></th>\n",
       "    </tr>\n",
       "  </thead>\n",
       "  <tbody>\n",
       "    <tr>\n",
       "      <th>Atlanta (GA)</th>\n",
       "      <td>$2,795,498.57</td>\n",
       "    </tr>\n",
       "    <tr>\n",
       "      <th>Austin (TX)</th>\n",
       "      <td>$1,819,581.74</td>\n",
       "    </tr>\n",
       "    <tr>\n",
       "      <th>Boston (MA)</th>\n",
       "      <td>$3,661,641.99</td>\n",
       "    </tr>\n",
       "    <tr>\n",
       "      <th>Dallas (TX)</th>\n",
       "      <td>$2,767,975.39</td>\n",
       "    </tr>\n",
       "    <tr>\n",
       "      <th>Los Angeles (CA)</th>\n",
       "      <td>$5,452,570.77</td>\n",
       "    </tr>\n",
       "    <tr>\n",
       "      <th>New York City (NY)</th>\n",
       "      <td>$4,664,317.41</td>\n",
       "    </tr>\n",
       "    <tr>\n",
       "      <th>Portland (ME)</th>\n",
       "      <td>$449,758.27</td>\n",
       "    </tr>\n",
       "    <tr>\n",
       "      <th>Portland (OR)</th>\n",
       "      <td>$1,870,732.33</td>\n",
       "    </tr>\n",
       "    <tr>\n",
       "      <th>San Francisco (CA)</th>\n",
       "      <td>$8,262,203.87</td>\n",
       "    </tr>\n",
       "    <tr>\n",
       "      <th>Seattle (WA)</th>\n",
       "      <td>$2,747,755.47</td>\n",
       "    </tr>\n",
       "  </tbody>\n",
       "</table>\n",
       "</div>"
      ],
      "text/plain": [
       "                   Total Sales Amount\n",
       "City                                 \n",
       "Atlanta (GA)            $2,795,498.57\n",
       "Austin (TX)             $1,819,581.74\n",
       "Boston (MA)             $3,661,641.99\n",
       "Dallas (TX)             $2,767,975.39\n",
       "Los Angeles (CA)        $5,452,570.77\n",
       "New York City (NY)      $4,664,317.41\n",
       "Portland (ME)             $449,758.27\n",
       "Portland (OR)           $1,870,732.33\n",
       "San Francisco (CA)      $8,262,203.87\n",
       "Seattle (WA)            $2,747,755.47"
      ]
     },
     "execution_count": 19,
     "metadata": {},
     "output_type": "execute_result"
    }
   ],
   "source": [
    "#Defining a function for extracting city (and state) from 'Purchase Address' coloumn\n",
    "def get_city_state(address):\n",
    "        address = address.split(', ') \n",
    "        city = address[1]\n",
    "        state = address[2][0:2]\n",
    "        return \"{} ({})\".format(city, state)\n",
    "\n",
    "#Adding a city coloumn\n",
    "city_col = df['Purchase Address'].apply(lambda add: get_city_state(add))\n",
    "df.insert(loc=8, column='City', value=city_col)\n",
    "\n",
    "\n",
    "#Grouping the data by city and calculating the total sales amount for each city\n",
    "sales_per_city = df.groupby(['City']).sum()['Sales']\n",
    "\n",
    "#formating sales to present them in USD\n",
    "sales_per_city_USD = sales_per_city.apply(lambda sale: '${:,.2f}'.format(sale)).to_frame(name='Total Sales Amount')\n",
    "\n",
    "\n",
    "#displaying the results \n",
    "print('The following table displays the total sales amount for each city:')\n",
    "sales_per_city_USD\n"
   ]
  },
  {
   "cell_type": "markdown",
   "id": "169328bc",
   "metadata": {},
   "source": [
    " "
   ]
  },
  {
   "cell_type": "code",
   "execution_count": 20,
   "id": "9992b933",
   "metadata": {},
   "outputs": [
    {
     "name": "stdout",
     "output_type": "stream",
     "text": [
      "The city that sold the most products is: San Francisco (CA)\n"
     ]
    }
   ],
   "source": [
    "#now we can extract the city associated with the highest sales amount\n",
    "sales_per_city_sorted = sales_per_city.sort_values(ascending=False)\n",
    "best_city = sales_per_city_sorted.index[0]\n",
    "\n",
    "#reporting the city with most sales \n",
    "print('The city that sold the most products is:', best_city)\n"
   ]
  },
  {
   "cell_type": "markdown",
   "id": "c4ec4cd5",
   "metadata": {},
   "source": [
    " "
   ]
  },
  {
   "cell_type": "code",
   "execution_count": 21,
   "id": "056009db",
   "metadata": {},
   "outputs": [
    {
     "data": {
      "image/png": "[encoded data removed]",
      "text/plain": [
       "<Figure size 1000x700 with 1 Axes>"
      ]
     },
     "metadata": {},
     "output_type": "display_data"
    }
   ],
   "source": [
    "#Finally, we can once again visualize the data using the bar chart to get a better view of the sales per city\n",
    "#specifying the city names \n",
    "cities = sales_per_city.index.values \n",
    "\n",
    "#setting the figure size \n",
    "plt.figure(figsize=(10,7))\n",
    "\n",
    "#plotting a bar chart \n",
    "plt.bar(cities, sales_per_city,\n",
    "        color='#44749d',\n",
    "        width=0.6,\n",
    "        linewidth=1,\n",
    "        edgecolor='k')\n",
    "\n",
    "#adding a title \n",
    "plt.title('Sales Amount Per City', fontsize=15)\n",
    "\n",
    "#adding labels to the axes \n",
    "plt.xlabel('City', fontsize=13)\n",
    "plt.ylabel('Sales Amount in USD ($)', fontsize=13)\n",
    "\n",
    "#adjusting the rotation of the x-axis' labels \n",
    "plt.xticks(rotation=60)\n",
    "\n",
    "#adjusting the y-axis to display the sales amounts accurately \n",
    "plt.gcf().axes[0].yaxis.get_major_formatter().set_scientific(False)\n",
    "plt.gcf().axes[0].yaxis.set_major_formatter(mpl.ticker.StrMethodFormatter('${x:,.0f}'))\n",
    "\n",
    "#displaying the bar chart \n",
    "plt.tight_layout()\n",
    "plt.show()\n"
   ]
  },
  {
   "cell_type": "markdown",
   "id": "f6edaf62",
   "metadata": {},
   "source": [
    " "
   ]
  },
  {
   "cell_type": "markdown",
   "id": "8790f2df",
   "metadata": {},
   "source": [
    "**Question 3: Which product sold the most? And why do you think it sold the most?**\n",
    "<br>\n",
    "\n",
    "To answer this question, we would have to group the data based on product purchases and then calculate the total amount of quantities ordered for each product to determine which one sold the most amount of quantities.\n",
    "<br>\n",
    "<br>"
   ]
  },
  {
   "cell_type": "code",
   "execution_count": 22,
   "id": "59f5b602",
   "metadata": {},
   "outputs": [
    {
     "name": "stdout",
     "output_type": "stream",
     "text": [
      "The product that was sold the most is: AAA Batteries (4-pack)\n"
     ]
    }
   ],
   "source": [
    "#Grouping data by product names and calculating the total quantity ordered for a given product\n",
    "products_sold = df.groupby(['Product']).sum()['Quantity Ordered']\n",
    "\n",
    "#sorting the data in descending order to determine the product that sold the most\n",
    "products_sold = products_sold.sort_values(ascending=False)\n",
    "most_sold_product = products_sold.index[0]\n",
    "\n",
    "#reporting the product  \n",
    "print('The product that was sold the most is:', most_sold_product)\n"
   ]
  },
  {
   "cell_type": "markdown",
   "id": "f33cd9f1",
   "metadata": {},
   "source": [
    "**Why did it sell the most?**\n",
    "<br>\n",
    "\n",
    "Generally, batteries are very commonly used with a variety everyday electronic devices, are cheap, and tend to be short-lived compared to most, or all, electronic products in this dataset. Further, AAA batteries are non-rechargeable. Therefore, taken together, these factors predict that batteries are much more likely to be demanded heavily compared to other electronic products. \n",
    "<br>\n",
    "<br>"
   ]
  },
  {
   "cell_type": "markdown",
   "id": "a2c4bf25",
   "metadata": {},
   "source": [
    " "
   ]
  },
  {
   "cell_type": "markdown",
   "id": "dad6cde1",
   "metadata": {},
   "source": [
    "**Question 4: Is there a relationship between how much a product costs and the quantity sold?**\n",
    "<br>\n",
    "\n",
    "One way to answer this question is to create a dual-axis line chart displaying the prices of each product and the quantity sold in order to compare them. <br> First, we will have to create two groups, the first representing the prices of each product, the second representing the total quantity sold for each product.\n",
    "<br>\n",
    "<br>"
   ]
  },
  {
   "cell_type": "code",
   "execution_count": 23,
   "id": "9b67a396",
   "metadata": {},
   "outputs": [
    {
     "data": {
      "image/png": "[encoded data removed]",
      "text/plain": [
       "<Figure size 1200x700 with 2 Axes>"
      ]
     },
     "metadata": {},
     "output_type": "display_data"
    }
   ],
   "source": [
    "#Creating the first group for quantity sold per product\n",
    "products_quantity = df.groupby(['Product']).sum()['Quantity Ordered']\n",
    "\n",
    "#extracting the product names \n",
    "products = products_quantity.index.values\n",
    "\n",
    "#creating the second group for price per product\n",
    "products_prices = df.groupby(['Product'])['Price Each'].apply(lambda price: float(np.unique(price)))\n",
    "\n",
    "\n",
    "#Now, creating a subplot to compare product prices to sold quantities \n",
    "fig, ax1 = plt.subplots(figsize=(12,7))\n",
    "\n",
    "#plottin the data for total sum of quantity sold of each product  \n",
    "ax1.plot(products, products_quantity,          #specifying the data to plot\n",
    "        marker='o',        #setting marker shape \n",
    "        c='#407bbf',       #setting the line color\n",
    "        lw=2,              #setting the line width\n",
    "        label='Quantities')          #labeling the line plot\n",
    "\n",
    "\n",
    "#plotting the data for the prices of each product\n",
    "ax2 = ax1.twinx()\n",
    "ax2.plot(products, products_prices,\n",
    "        marker='o',\n",
    "        c='#bf4040',\n",
    "        lw=2,\n",
    "        label='Prices')\n",
    "\n",
    "\n",
    "#Adding a title\n",
    "ax1.set_title('The Relationship Between Product Price and Quantity Sold', fontsize=15)\n",
    "\n",
    "#labeling the x-axis\n",
    "ax1.set_xlabel('Product Name', fontsize=13)\n",
    "\n",
    "#labeling first y-axis\n",
    "ax1.set_ylabel('Total Quantity Sold', fontsize=12, color='#407bbf')\n",
    "\n",
    "#labeling second y-axis \n",
    "ax2.set_ylabel('Prices in USD ($)', fontsize=12, color='#cc3333')\n",
    "\n",
    "#adjusting the rotation of the x-axis' labels\n",
    "ax1.set_xticklabels(products, rotation='vertical')\n",
    "\n",
    "#adjusting the y-axis to make numeric values reader-friendly\n",
    "ax1.yaxis.set_major_formatter(mpl.ticker.StrMethodFormatter('{x:,.0f}'))\n",
    "ax2.yaxis.set_major_formatter(mpl.ticker.StrMethodFormatter('${x:,.0f}'))\n",
    "\n",
    "#adding a legend \n",
    "ax1.legend(loc='upper left')\n",
    "ax2.legend(loc='upper right')\n",
    "\n",
    "#adding a grid \n",
    "plt.grid()\n",
    "\n",
    "#displaying the line plot \n",
    "plt.show()\n"
   ]
  },
  {
   "cell_type": "markdown",
   "id": "a168b522",
   "metadata": {},
   "source": [
    " "
   ]
  },
  {
   "cell_type": "markdown",
   "id": "bb9b9b7d",
   "metadata": {},
   "source": [
    "**What can we conclude from the chart?**\n",
    "<br>\n",
    "\n",
    "As the line chart illustrates, the lower the price of a product, the higher the quantity sold of that product, as in the case of batteries products for instance. Meanwhile, the higher the product price, the lower the quantity sold, as in the case of laptops. Other than the obvious explanation that cheap products are more affordable by a larger population of customers, the trends in this dataset could be explained by the simple fact that highly priced products have higher longevity than low price products, which means highly priced products tend to be less replaceable, and  thus the customer doesn't need to purchase them frequently compared to the cheap but quickly exhaustible products.\n",
    "<br>\n",
    "<br>"
   ]
  },
  {
   "cell_type": "markdown",
   "id": "e267479d",
   "metadata": {},
   "source": [
    " "
   ]
  },
  {
   "cell_type": "markdown",
   "id": "aa58c71c",
   "metadata": {},
   "source": [
    "**Question 5: Which products are most often sold together?**\n",
    "<br>\n",
    "\n",
    "For starters, we can filter data based on whether there are duplicates in the 'Order ID' coloumn, indicating that the same person made multiple product purchases, and then join the multiple products sold together and count the instances of particular products being sold together in order to extract those that most often ordered together. \n",
    "<br>\n",
    "<br>"
   ]
  },
  {
   "cell_type": "code",
   "execution_count": 24,
   "id": "80c8b882",
   "metadata": {},
   "outputs": [
    {
     "name": "stdout",
     "output_type": "stream",
     "text": [
      "Products purchased per order (first 5 entries):\n"
     ]
    },
    {
     "data": {
      "text/html": [
       "<div>\n",
       "<style scoped>\n",
       "    .dataframe tbody tr th:only-of-type {\n",
       "        vertical-align: middle;\n",
       "    }\n",
       "\n",
       "    .dataframe tbody tr th {\n",
       "        vertical-align: top;\n",
       "    }\n",
       "\n",
       "    .dataframe thead th {\n",
       "        text-align: right;\n",
       "    }\n",
       "</style>\n",
       "<table border=\"1\" class=\"dataframe\">\n",
       "  <thead>\n",
       "    <tr style=\"text-align: right;\">\n",
       "      <th></th>\n",
       "      <th>Products Sold Together</th>\n",
       "    </tr>\n",
       "  </thead>\n",
       "  <tbody>\n",
       "    <tr>\n",
       "      <th>0</th>\n",
       "      <td>Google Phone, Wired Headphones</td>\n",
       "    </tr>\n",
       "    <tr>\n",
       "      <th>1</th>\n",
       "      <td>Google Phone, Wired Headphones</td>\n",
       "    </tr>\n",
       "    <tr>\n",
       "      <th>2</th>\n",
       "      <td>Google Phone, USB-C Charging Cable</td>\n",
       "    </tr>\n",
       "    <tr>\n",
       "      <th>3</th>\n",
       "      <td>Google Phone, USB-C Charging Cable</td>\n",
       "    </tr>\n",
       "    <tr>\n",
       "      <th>4</th>\n",
       "      <td>Bose SoundSport Headphones, Bose SoundSport He...</td>\n",
       "    </tr>\n",
       "  </tbody>\n",
       "</table>\n",
       "</div>"
      ],
      "text/plain": [
       "                              Products Sold Together\n",
       "0                     Google Phone, Wired Headphones\n",
       "1                     Google Phone, Wired Headphones\n",
       "2                 Google Phone, USB-C Charging Cable\n",
       "3                 Google Phone, USB-C Charging Cable\n",
       "4  Bose SoundSport Headphones, Bose SoundSport He..."
      ]
     },
     "execution_count": 24,
     "metadata": {},
     "output_type": "execute_result"
    }
   ],
   "source": [
    "#First, filtering data for Order ID duplicates \n",
    "order_filter = df['Order ID'].duplicated(keep=False) \n",
    "\n",
    "#extracting and storing orders with more than one purchase into a dataframe\n",
    "df_multiple_orders = df[order_filter][['Order ID', 'Product']]         #storing only the relevant coloumns: 'Order ID' and 'Product'\n",
    "\n",
    "#grouping data by Order ID and joining multiple products purchased by same person into one coloumn (/Series object)\n",
    "orders_per_person = df_multiple_orders.groupby(['Order ID'])['Product'].transform(lambda product: \", \".join(product))\n",
    "df_orders_per_person = orders_per_person.to_frame(name='Products Sold Together').reset_index(drop=True)        #again changing to table form\n",
    "\n",
    "\n",
    "#previewing the first 5 entries of our joined orders coloumn 'orders_per_person'\n",
    "print('Products purchased per order (first 5 entries):')\n",
    "df_orders_per_person.head()\n"
   ]
  },
  {
   "cell_type": "markdown",
   "id": "87f042ff",
   "metadata": {},
   "source": [
    " "
   ]
  },
  {
   "cell_type": "code",
   "execution_count": 25,
   "id": "26dbae3c",
   "metadata": {},
   "outputs": [
    {
     "name": "stdout",
     "output_type": "stream",
     "text": [
      "The following table displays the frequency of products sold together:\n"
     ]
    },
    {
     "data": {
      "text/html": [
       "<div>\n",
       "<style scoped>\n",
       "    .dataframe tbody tr th:only-of-type {\n",
       "        vertical-align: middle;\n",
       "    }\n",
       "\n",
       "    .dataframe tbody tr th {\n",
       "        vertical-align: top;\n",
       "    }\n",
       "\n",
       "    .dataframe thead th {\n",
       "        text-align: right;\n",
       "    }\n",
       "</style>\n",
       "<table border=\"1\" class=\"dataframe\">\n",
       "  <thead>\n",
       "    <tr style=\"text-align: right;\">\n",
       "      <th></th>\n",
       "      <th>Frequency of products sold together</th>\n",
       "    </tr>\n",
       "  </thead>\n",
       "  <tbody>\n",
       "    <tr>\n",
       "      <th>iPhone, Lightning Charging Cable</th>\n",
       "      <td>1764</td>\n",
       "    </tr>\n",
       "    <tr>\n",
       "      <th>Google Phone, USB-C Charging Cable</th>\n",
       "      <td>1712</td>\n",
       "    </tr>\n",
       "    <tr>\n",
       "      <th>iPhone, Wired Headphones</th>\n",
       "      <td>722</td>\n",
       "    </tr>\n",
       "    <tr>\n",
       "      <th>Vareebadd Phone, USB-C Charging Cable</th>\n",
       "      <td>624</td>\n",
       "    </tr>\n",
       "    <tr>\n",
       "      <th>Google Phone, Wired Headphones</th>\n",
       "      <td>606</td>\n",
       "    </tr>\n",
       "    <tr>\n",
       "      <th>...</th>\n",
       "      <td>...</td>\n",
       "    </tr>\n",
       "    <tr>\n",
       "      <th>34in Ultrawide Monitor, 20in Monitor</th>\n",
       "      <td>2</td>\n",
       "    </tr>\n",
       "    <tr>\n",
       "      <th>20in Monitor, Flatscreen TV</th>\n",
       "      <td>2</td>\n",
       "    </tr>\n",
       "    <tr>\n",
       "      <th>USB-C Charging Cable, LG Dryer</th>\n",
       "      <td>2</td>\n",
       "    </tr>\n",
       "    <tr>\n",
       "      <th>ThinkPad Laptop, Vareebadd Phone</th>\n",
       "      <td>2</td>\n",
       "    </tr>\n",
       "    <tr>\n",
       "      <th>LG Washing Machine, AA Batteries (4-pack)</th>\n",
       "      <td>2</td>\n",
       "    </tr>\n",
       "  </tbody>\n",
       "</table>\n",
       "<p>366 rows × 1 columns</p>\n",
       "</div>"
      ],
      "text/plain": [
       "                                           Frequency of products sold together\n",
       "iPhone, Lightning Charging Cable                                          1764\n",
       "Google Phone, USB-C Charging Cable                                        1712\n",
       "iPhone, Wired Headphones                                                   722\n",
       "Vareebadd Phone, USB-C Charging Cable                                      624\n",
       "Google Phone, Wired Headphones                                             606\n",
       "...                                                                        ...\n",
       "34in Ultrawide Monitor, 20in Monitor                                         2\n",
       "20in Monitor, Flatscreen TV                                                  2\n",
       "USB-C Charging Cable, LG Dryer                                               2\n",
       "ThinkPad Laptop, Vareebadd Phone                                             2\n",
       "LG Washing Machine, AA Batteries (4-pack)                                    2\n",
       "\n",
       "[366 rows x 1 columns]"
      ]
     },
     "execution_count": 25,
     "metadata": {},
     "output_type": "execute_result"
    }
   ],
   "source": [
    "#finally, to get the frequency of orders sold together \n",
    "orders_frequency = orders_per_person.value_counts()       #sorted in descending order\n",
    "#to present the data in table form\n",
    "df_orders_frequency = orders_frequency.to_frame(name='Frequency of products sold together')\n",
    "\n",
    "#reporting the results \n",
    "print('The following table displays the frequency of products sold together:')\n",
    "df_orders_frequency\n"
   ]
  },
  {
   "cell_type": "markdown",
   "id": "9e18e161",
   "metadata": {},
   "source": [
    "  "
   ]
  },
  {
   "cell_type": "code",
   "execution_count": 26,
   "id": "c90c5a9c",
   "metadata": {},
   "outputs": [
    {
     "name": "stdout",
     "output_type": "stream",
     "text": [
      "The two products sold together the most often are: iPhone and Lightning Charging Cable\n"
     ]
    }
   ],
   "source": [
    "#reporting the products sold together most often \n",
    "most_sold_together = orders_frequency.index[0]\n",
    "print('The two products sold together the most often are: {}'.format(' and '.join(most_sold_together.split(', '))))\n"
   ]
  },
  {
   "cell_type": "markdown",
   "id": "2a63dbee",
   "metadata": {},
   "source": [
    "   "
   ]
  },
  {
   "cell_type": "markdown",
   "id": "448a76b1",
   "metadata": {},
   "source": [
    "**Question 6: Which time of the day should we display advertisments to maximize the likelihood of customer's purchasing products?**\n",
    "<br>\n",
    "\n",
    "One way to answer this question is to extract the time of the day from the 'Order Date' coloumn, and then grouping the data based on the time of <br> the day (hour) in which a product was purchased to determine which times are associated with the most product purchases.\n",
    "<br>\n",
    "<br>"
   ]
  },
  {
   "cell_type": "code",
   "execution_count": 27,
   "id": "baa69afc",
   "metadata": {},
   "outputs": [
    {
     "name": "stdout",
     "output_type": "stream",
     "text": [
      "The following table displays the total sum of quantities ordered for each hour of the day:\n"
     ]
    },
    {
     "data": {
      "text/html": [
       "<div>\n",
       "<style scoped>\n",
       "    .dataframe tbody tr th:only-of-type {\n",
       "        vertical-align: middle;\n",
       "    }\n",
       "\n",
       "    .dataframe tbody tr th {\n",
       "        vertical-align: top;\n",
       "    }\n",
       "\n",
       "    .dataframe thead th {\n",
       "        text-align: right;\n",
       "    }\n",
       "</style>\n",
       "<table border=\"1\" class=\"dataframe\">\n",
       "  <thead>\n",
       "    <tr style=\"text-align: right;\">\n",
       "      <th></th>\n",
       "      <th>Total Quantity Sold</th>\n",
       "    </tr>\n",
       "    <tr>\n",
       "      <th>Time of Purchase</th>\n",
       "      <th></th>\n",
       "    </tr>\n",
       "  </thead>\n",
       "  <tbody>\n",
       "    <tr>\n",
       "      <th>12 AM</th>\n",
       "      <td>4428</td>\n",
       "    </tr>\n",
       "    <tr>\n",
       "      <th>01 AM</th>\n",
       "      <td>2619</td>\n",
       "    </tr>\n",
       "    <tr>\n",
       "      <th>02 AM</th>\n",
       "      <td>1398</td>\n",
       "    </tr>\n",
       "    <tr>\n",
       "      <th>03 AM</th>\n",
       "      <td>928</td>\n",
       "    </tr>\n",
       "    <tr>\n",
       "      <th>04 AM</th>\n",
       "      <td>937</td>\n",
       "    </tr>\n",
       "    <tr>\n",
       "      <th>05 AM</th>\n",
       "      <td>1493</td>\n",
       "    </tr>\n",
       "    <tr>\n",
       "      <th>06 AM</th>\n",
       "      <td>2810</td>\n",
       "    </tr>\n",
       "    <tr>\n",
       "      <th>07 AM</th>\n",
       "      <td>4556</td>\n",
       "    </tr>\n",
       "    <tr>\n",
       "      <th>08 AM</th>\n",
       "      <td>7002</td>\n",
       "    </tr>\n",
       "    <tr>\n",
       "      <th>09 AM</th>\n",
       "      <td>9816</td>\n",
       "    </tr>\n",
       "    <tr>\n",
       "      <th>10 AM</th>\n",
       "      <td>12308</td>\n",
       "    </tr>\n",
       "    <tr>\n",
       "      <th>11 AM</th>\n",
       "      <td>14005</td>\n",
       "    </tr>\n",
       "    <tr>\n",
       "      <th>12 PM</th>\n",
       "      <td>14202</td>\n",
       "    </tr>\n",
       "    <tr>\n",
       "      <th>01 PM</th>\n",
       "      <td>13685</td>\n",
       "    </tr>\n",
       "    <tr>\n",
       "      <th>02 PM</th>\n",
       "      <td>12362</td>\n",
       "    </tr>\n",
       "    <tr>\n",
       "      <th>03 PM</th>\n",
       "      <td>11391</td>\n",
       "    </tr>\n",
       "    <tr>\n",
       "      <th>04 PM</th>\n",
       "      <td>11662</td>\n",
       "    </tr>\n",
       "    <tr>\n",
       "      <th>05 PM</th>\n",
       "      <td>12229</td>\n",
       "    </tr>\n",
       "    <tr>\n",
       "      <th>06 PM</th>\n",
       "      <td>13802</td>\n",
       "    </tr>\n",
       "    <tr>\n",
       "      <th>07 PM</th>\n",
       "      <td>14470</td>\n",
       "    </tr>\n",
       "    <tr>\n",
       "      <th>08 PM</th>\n",
       "      <td>13768</td>\n",
       "    </tr>\n",
       "    <tr>\n",
       "      <th>09 PM</th>\n",
       "      <td>12244</td>\n",
       "    </tr>\n",
       "    <tr>\n",
       "      <th>10 PM</th>\n",
       "      <td>9899</td>\n",
       "    </tr>\n",
       "    <tr>\n",
       "      <th>11 PM</th>\n",
       "      <td>7065</td>\n",
       "    </tr>\n",
       "  </tbody>\n",
       "</table>\n",
       "</div>"
      ],
      "text/plain": [
       "                  Total Quantity Sold\n",
       "Time of Purchase                     \n",
       "12 AM                            4428\n",
       "01 AM                            2619\n",
       "02 AM                            1398\n",
       "03 AM                             928\n",
       "04 AM                             937\n",
       "05 AM                            1493\n",
       "06 AM                            2810\n",
       "07 AM                            4556\n",
       "08 AM                            7002\n",
       "09 AM                            9816\n",
       "10 AM                           12308\n",
       "11 AM                           14005\n",
       "12 PM                           14202\n",
       "01 PM                           13685\n",
       "02 PM                           12362\n",
       "03 PM                           11391\n",
       "04 PM                           11662\n",
       "05 PM                           12229\n",
       "06 PM                           13802\n",
       "07 PM                           14470\n",
       "08 PM                           13768\n",
       "09 PM                           12244\n",
       "10 PM                            9899\n",
       "11 PM                            7065"
      ]
     },
     "execution_count": 27,
     "metadata": {},
     "output_type": "execute_result"
    }
   ],
   "source": [
    "#First, extracting time of purchase and storing it in a new coloumn, 'Time of Purchase' \n",
    "Time_col = pd.to_datetime(df['Order Date'], format='%d/%m/%y %H:%M').dt.strftime('%I %p')       #creating a time coloumn (by 'hour' of purchase)\n",
    "\n",
    "#adding a 'Time of Purchase' coloumn to the dataframe \n",
    "df.insert(loc=6, column='Time of Purchase', value=Time_col)              #inserting the time coloumn into the dataframe \n",
    "\n",
    "\n",
    "#second, grouping the data by time of purchase and calculating the total sum of quantities \n",
    "#sold for each hour of the day \n",
    "purchases_per_hour = df.groupby(['Time of Purchase']).sum()['Quantity Ordered']\n",
    "\n",
    "#rearranging the order\n",
    "time_sort_order = ['12 AM', '01 AM', '02 AM', '03 AM', '04 AM', '05 AM', '06 AM', '07 AM', '08 AM', '09 AM', '10 AM', '11 AM', \n",
    "                   '12 PM', '01 PM', '02 PM', '03 PM', '04 PM', '05 PM', '06 PM', '07 PM', '08 PM', '09 PM', '10 PM', '11 PM']\n",
    "purchases_per_hour = purchases_per_hour.reindex(time_sort_order)\n",
    "\n",
    "#to present the data in table form \n",
    "df_purchases_per_hour = purchases_per_hour.to_frame(name='Total Quantity Sold')\n",
    "\n",
    "\n",
    "#reporting the amounts of purchases made for each time of the day \n",
    "print('The following table displays the total sum of quantities ordered for each hour of the day:')\n",
    "df_purchases_per_hour\n"
   ]
  },
  {
   "cell_type": "markdown",
   "id": "bf313526",
   "metadata": {},
   "source": [
    "  "
   ]
  },
  {
   "cell_type": "code",
   "execution_count": 28,
   "id": "69f660ef",
   "metadata": {},
   "outputs": [
    {
     "name": "stdout",
     "output_type": "stream",
     "text": [
      "The best time of day for displaying advertisements is: 07 PM\n"
     ]
    }
   ],
   "source": [
    "#Now we can extract the time of the day associated with most product purchases\n",
    "#sorting the results in descending order\n",
    "purchases_per_hour_sorted = purchases_per_hour.sort_values(ascending=False)\n",
    "\n",
    "#extracting the best time for sales \n",
    "best_hour = purchases_per_hour_sorted.index[0]\n",
    "\n",
    "#reporting the result\n",
    "print('The best time of day for displaying advertisements is:', best_hour)\n"
   ]
  },
  {
   "cell_type": "markdown",
   "id": "07ddb261",
   "metadata": {},
   "source": [
    " "
   ]
  },
  {
   "cell_type": "code",
   "execution_count": 29,
   "id": "b46822a8",
   "metadata": {},
   "outputs": [
    {
     "data": {
      "image/png": "[encoded data removed]",
      "text/plain": [
       "<Figure size 1200x700 with 1 Axes>"
      ]
     },
     "metadata": {},
     "output_type": "display_data"
    }
   ],
   "source": [
    "#finally, we can plot the data using a bar chart in order to get a better view  of how many purchases are made per hour\n",
    "#extracting times of the day \n",
    "time_of_purchase = purchases_per_hour.index.values\n",
    "\n",
    "#setting the figure size \n",
    "plt.figure(figsize=(12,7))\n",
    "\n",
    "#creating a line plot\n",
    "plt.bar(time_of_purchase,\n",
    "        purchases_per_hour, \n",
    "        color='#4169e1',\n",
    "        linewidth=1,\n",
    "        edgecolor='k')\n",
    "\n",
    "#adding a title\n",
    "plt.title('Quantities Sold Per Hour', fontsize=15)\n",
    "#adding labels to the axes\n",
    "plt.xlabel('Time of Day', fontsize=13)\n",
    "plt.ylabel('Amount of Quantities Sold', fontsize=13)\n",
    "\n",
    "#adjusting the rotation of the x-axis' labels\n",
    "plt.xticks(rotation=90)\n",
    "\n",
    "#adjusting the y-axis to make quantities numeric values reader-friendly\n",
    "plt.gcf().axes[0].yaxis.set_major_formatter(mpl.ticker.StrMethodFormatter('{x:,.0f}'))\n",
    "\n",
    "#displaying the bar chart\n",
    "plt.tight_layout()\n",
    "plt.show()\n"
   ]
  },
  {
   "cell_type": "markdown",
   "id": "849fb06f",
   "metadata": {},
   "source": [
    "**What does the data tell us?**\n",
    "<br>\n",
    "\n",
    "As illustrated in the bar chart, it appears that the best time to display advertisements in order to increase product purchases and sales is in the evening (between 6 PM to 8 PM) and in the afternoon (between 11 AM to 1 PM). These are the time ranges associated with most product purchases.\n",
    "<br>\n",
    "<br>"
   ]
  },
  {
   "cell_type": "markdown",
   "id": "8684df58",
   "metadata": {},
   "source": [
    " "
   ]
  },
  {
   "cell_type": "markdown",
   "id": "7625595c",
   "metadata": {},
   "source": [
    " "
   ]
  }
 ],
 "metadata": {
  "kernelspec": {
   "display_name": "Python 3 (ipykernel)",
   "language": "python",
   "name": "python3"
  },
  "language_info": {
   "codemirror_mode": {
    "name": "ipython",
    "version": 3
   },
   "file_extension": ".py",
   "mimetype": "text/x-python",
   "name": "python",
   "nbconvert_exporter": "python",
   "pygments_lexer": "ipython3",
   "version": "3.10.10"
  },
  "vscode": {
   "interpreter": {
    "hash": "717ebf86fe4bb3d48abb9cf1549aed25b7deb519dab001ceac6cc05f84468a1d"
   }
  }
 },
 "nbformat": 4,
 "nbformat_minor": 5
}
